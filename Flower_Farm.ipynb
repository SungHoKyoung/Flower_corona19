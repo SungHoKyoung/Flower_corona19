{
 "cells": [
  {
   "cell_type": "code",
   "execution_count": 57,
   "metadata": {},
   "outputs": [],
   "source": [
    "from konlpy.utils import pprint\n",
    "from konlpy.tag import Kkma\n",
    "from konlpy.tag import Okt\n",
    "from konlpy.tag import Twitter\n",
    "from collections import Counter\n",
    "import os\n",
    "import sys\n",
    "import urllib.request\n",
    "import ssl\n",
    "import json\n",
    "from wordcloud import WordCloud\n",
    "import matplotlib\n",
    "import matplotlib.pyplot as plt\n",
    "import pandas as pd\n",
    "import numpy as np\n",
    "import seaborn as sns\n",
    "plt.rc('font',family='NanumBarunGothic')\n",
    "#cell magic 명령어 : 그래프를 출력영역에 표시\n",
    "%matplotlib inline\n",
    "\n",
    "import matplotlib.font_manager as fm\n",
    "font_name = fm.FontProperties(fname=\"C:\\\\Windows\\\\Fonts\\\\malgun.ttf\").get_name()\n",
    "plt.rc(\"font\", family=\"Malgun Gothic\")\n",
    "\n",
    "font_path = plt.rc('font', family='Malgun Gothic') \n",
    "\n",
    "import matplotlib as mlp\n",
    "mlp.rcParams[\"axes.unicode_minus\"] = False\n",
    "\n",
    "import seaborn as sns"
   ]
  },
  {
   "cell_type": "markdown",
   "metadata": {},
   "source": [
    "# (절화)월별전년대비실적 데이터\n",
    "\n",
    "+ 모든 데이터 통합하기\n",
    "+ 월별일자 1월~ 12월로 변경 (object)\n",
    "+ 작년대비(거래량), 작년대비(거래금액) 문장부호 제외하고 int로 (하락은 음수로 표현)\n",
    "+ 전년(거래량), 금년(거래량) 비율 컬럼 추가"
   ]
  },
  {
   "cell_type": "markdown",
   "metadata": {},
   "source": [
    "## 데이터 확인"
   ]
  },
  {
   "cell_type": "code",
   "execution_count": 2,
   "metadata": {},
   "outputs": [],
   "source": [
    "# 데이터 업로드\n",
    "yj = pd.read_csv(\"data/월별전년대비실적(양재).csv\", encoding= 'cp949')\n",
    "gj = pd.read_csv('data/월별전년대비실적 (광주풍암).csv', encoding= 'utf8')\n",
    "bsgd = pd.read_csv('data/월별전년대비실적 (부산강동동).csv', encoding= 'utf8')\n",
    "bsug = pd.read_csv('data/월별전년대비실적 (부산엄궁동).csv', encoding= 'utf8')"
   ]
  },
  {
   "cell_type": "code",
   "execution_count": 3,
   "metadata": {},
   "outputs": [
    {
     "name": "stdout",
     "output_type": "stream",
     "text": [
      "<class 'pandas.core.frame.DataFrame'>\n",
      "RangeIndex: 13 entries, 0 to 12\n",
      "Data columns (total 7 columns):\n",
      " #   Column      Non-Null Count  Dtype \n",
      "---  ------      --------------  ----- \n",
      " 0   월별일자        13 non-null     object\n",
      " 1   전년(거래량)     13 non-null     int64 \n",
      " 2   금년(거래량)     13 non-null     int64 \n",
      " 3   작년대비(거래량)   13 non-null     object\n",
      " 4   전년(거래금액)    13 non-null     int64 \n",
      " 5   금년(거래금액)    13 non-null     int64 \n",
      " 6   작년대비(거래금액)  13 non-null     object\n",
      "dtypes: int64(4), object(3)\n",
      "memory usage: 856.0+ bytes\n"
     ]
    }
   ],
   "source": [
    "gj.info()"
   ]
  },
  {
   "cell_type": "markdown",
   "metadata": {},
   "source": [
    "## 데이터 통합"
   ]
  },
  {
   "cell_type": "code",
   "execution_count": 4,
   "metadata": {},
   "outputs": [],
   "source": [
    "del yj[\"작년대비(거래량)\"]\n",
    "del yj[\"작년대비(거래금액)\"]\n",
    "del gj[\"작년대비(거래량)\"]\n",
    "del gj[\"작년대비(거래금액)\"]\n",
    "del bsgd[\"작년대비(거래량)\"]\n",
    "del bsgd[\"작년대비(거래금액)\"]\n",
    "del bsug[\"작년대비(거래량)\"]\n",
    "del bsug[\"작년대비(거래금액)\"]"
   ]
  },
  {
   "cell_type": "code",
   "execution_count": 5,
   "metadata": {},
   "outputs": [],
   "source": [
    "df = pd.concat([yj, gj, bsgd, bsug])\n",
    "result = df.groupby(\"월별일자\").sum()"
   ]
  },
  {
   "cell_type": "code",
   "execution_count": 6,
   "metadata": {},
   "outputs": [],
   "source": [
    "result[\"전년대비(거래량)비율\"] = result[\"금년(거래량)\"] / result[\"전년(거래량)\"] * 100\n",
    "result[\"전년대비(거래금액)비율\"] = result[\"금년(거래금액)\"] / result[\"전년(거래금액)\"] * 100"
   ]
  },
  {
   "cell_type": "code",
   "execution_count": 7,
   "metadata": {},
   "outputs": [],
   "source": [
    "result_2020 = result"
   ]
  },
  {
   "cell_type": "markdown",
   "metadata": {},
   "source": [
    "## 2020년 코로나 확진자 추이\n",
    "\n",
    "+ 출처 http://ncov.mohw.go.kr/"
   ]
  },
  {
   "cell_type": "markdown",
   "metadata": {},
   "source": [
    "### 데이터 전처리"
   ]
  },
  {
   "cell_type": "code",
   "execution_count": 8,
   "metadata": {},
   "outputs": [],
   "source": [
    "corona = pd.read_csv(\"data/corona_total.csv\", encoding= 'cp949', header = 0, thousands = ',')"
   ]
  },
  {
   "cell_type": "code",
   "execution_count": 9,
   "metadata": {},
   "outputs": [],
   "source": [
    "corona = corona[[\"일자\", \"계(명)\"]]\n",
    "corona.rename(columns = {\"계(명)\" : \"확진자수\"}, inplace = True)\n",
    "corona = corona.drop([corona.index[0]])"
   ]
  },
  {
   "cell_type": "code",
   "execution_count": 10,
   "metadata": {},
   "outputs": [
    {
     "name": "stderr",
     "output_type": "stream",
     "text": [
      "<ipython-input-10-02e62b04b75d>:4: SettingWithCopyWarning: \n",
      "A value is trying to be set on a copy of a slice from a DataFrame\n",
      "\n",
      "See the caveats in the documentation: https://pandas.pydata.org/pandas-docs/stable/user_guide/indexing.html#returning-a-view-versus-a-copy\n",
      "  corona[\"일자\"][t] = datetime.datetime.strptime(i, \"%Y-%m-%d\").date()\n"
     ]
    }
   ],
   "source": [
    "import datetime\n",
    "\n",
    "for i, t in zip(corona[\"일자\"], range(len(corona))):\n",
    "    corona[\"일자\"][t] = datetime.datetime.strptime(i, \"%Y-%m-%d\").date()"
   ]
  },
  {
   "cell_type": "code",
   "execution_count": 11,
   "metadata": {
    "scrolled": true
   },
   "outputs": [
    {
     "name": "stdout",
     "output_type": "stream",
     "text": [
      "<class 'pandas.core.frame.DataFrame'>\n",
      "Int64Index: 540 entries, 1 to 540\n",
      "Data columns (total 2 columns):\n",
      " #   Column  Non-Null Count  Dtype \n",
      "---  ------  --------------  ----- \n",
      " 0   일자      540 non-null    object\n",
      " 1   확진자수    540 non-null    int64 \n",
      "dtypes: int64(1), object(1)\n",
      "memory usage: 32.7+ KB\n"
     ]
    }
   ],
   "source": [
    "corona.info()"
   ]
  },
  {
   "cell_type": "code",
   "execution_count": 12,
   "metadata": {},
   "outputs": [],
   "source": [
    "corona = corona[[\"일자\", \"확진자수\"]]\n",
    "corona['year'] = pd.DatetimeIndex(corona['일자']).year\n",
    "corona['month'] = pd.DatetimeIndex(corona['일자']).month"
   ]
  },
  {
   "cell_type": "markdown",
   "metadata": {},
   "source": [
    "### 2020년과 2021년으로 나누기"
   ]
  },
  {
   "cell_type": "markdown",
   "metadata": {},
   "source": [
    "**2020년**"
   ]
  },
  {
   "cell_type": "code",
   "execution_count": 13,
   "metadata": {},
   "outputs": [],
   "source": [
    "corona2020 = corona[corona[\"year\"] == 2020]"
   ]
  },
  {
   "cell_type": "code",
   "execution_count": 14,
   "metadata": {},
   "outputs": [],
   "source": [
    "corona2020 = corona2020[[\"month\", \"확진자수\"]]"
   ]
  },
  {
   "cell_type": "code",
   "execution_count": 15,
   "metadata": {},
   "outputs": [
    {
     "data": {
      "text/html": [
       "<div>\n",
       "<style scoped>\n",
       "    .dataframe tbody tr th:only-of-type {\n",
       "        vertical-align: middle;\n",
       "    }\n",
       "\n",
       "    .dataframe tbody tr th {\n",
       "        vertical-align: top;\n",
       "    }\n",
       "\n",
       "    .dataframe thead th {\n",
       "        text-align: right;\n",
       "    }\n",
       "</style>\n",
       "<table border=\"1\" class=\"dataframe\">\n",
       "  <thead>\n",
       "    <tr style=\"text-align: right;\">\n",
       "      <th></th>\n",
       "      <th>month</th>\n",
       "      <th>확진자수</th>\n",
       "    </tr>\n",
       "  </thead>\n",
       "  <tbody>\n",
       "    <tr>\n",
       "      <th>0</th>\n",
       "      <td>1</td>\n",
       "      <td>7</td>\n",
       "    </tr>\n",
       "    <tr>\n",
       "      <th>1</th>\n",
       "      <td>2</td>\n",
       "      <td>2015</td>\n",
       "    </tr>\n",
       "    <tr>\n",
       "      <th>2</th>\n",
       "      <td>3</td>\n",
       "      <td>7639</td>\n",
       "    </tr>\n",
       "    <tr>\n",
       "      <th>3</th>\n",
       "      <td>4</td>\n",
       "      <td>1100</td>\n",
       "    </tr>\n",
       "    <tr>\n",
       "      <th>4</th>\n",
       "      <td>5</td>\n",
       "      <td>680</td>\n",
       "    </tr>\n",
       "    <tr>\n",
       "      <th>5</th>\n",
       "      <td>6</td>\n",
       "      <td>1316</td>\n",
       "    </tr>\n",
       "    <tr>\n",
       "      <th>6</th>\n",
       "      <td>7</td>\n",
       "      <td>1512</td>\n",
       "    </tr>\n",
       "    <tr>\n",
       "      <th>7</th>\n",
       "      <td>8</td>\n",
       "      <td>5429</td>\n",
       "    </tr>\n",
       "    <tr>\n",
       "      <th>8</th>\n",
       "      <td>9</td>\n",
       "      <td>4000</td>\n",
       "    </tr>\n",
       "    <tr>\n",
       "      <th>9</th>\n",
       "      <td>10</td>\n",
       "      <td>2686</td>\n",
       "    </tr>\n",
       "    <tr>\n",
       "      <th>10</th>\n",
       "      <td>11</td>\n",
       "      <td>7377</td>\n",
       "    </tr>\n",
       "    <tr>\n",
       "      <th>11</th>\n",
       "      <td>12</td>\n",
       "      <td>25999</td>\n",
       "    </tr>\n",
       "  </tbody>\n",
       "</table>\n",
       "</div>"
      ],
      "text/plain": [
       "    month   확진자수\n",
       "0       1      7\n",
       "1       2   2015\n",
       "2       3   7639\n",
       "3       4   1100\n",
       "4       5    680\n",
       "5       6   1316\n",
       "6       7   1512\n",
       "7       8   5429\n",
       "8       9   4000\n",
       "9      10   2686\n",
       "10     11   7377\n",
       "11     12  25999"
      ]
     },
     "execution_count": 15,
     "metadata": {},
     "output_type": "execute_result"
    }
   ],
   "source": [
    "corona2020 = corona2020.groupby(\"month\").sum()\n",
    "corona2020.reset_index(inplace = True)\n",
    "corona2020"
   ]
  },
  {
   "cell_type": "markdown",
   "metadata": {},
   "source": [
    "**2021년**"
   ]
  },
  {
   "cell_type": "code",
   "execution_count": 16,
   "metadata": {},
   "outputs": [],
   "source": [
    "corona2021 = corona[corona[\"year\"] == 2021]"
   ]
  },
  {
   "cell_type": "code",
   "execution_count": 17,
   "metadata": {},
   "outputs": [],
   "source": [
    "corona2021 = corona2021[[\"month\", \"확진자수\"]]"
   ]
  },
  {
   "cell_type": "code",
   "execution_count": 18,
   "metadata": {},
   "outputs": [
    {
     "data": {
      "text/html": [
       "<div>\n",
       "<style scoped>\n",
       "    .dataframe tbody tr th:only-of-type {\n",
       "        vertical-align: middle;\n",
       "    }\n",
       "\n",
       "    .dataframe tbody tr th {\n",
       "        vertical-align: top;\n",
       "    }\n",
       "\n",
       "    .dataframe thead th {\n",
       "        text-align: right;\n",
       "    }\n",
       "</style>\n",
       "<table border=\"1\" class=\"dataframe\">\n",
       "  <thead>\n",
       "    <tr style=\"text-align: right;\">\n",
       "      <th></th>\n",
       "      <th>month</th>\n",
       "      <th>확진자수</th>\n",
       "    </tr>\n",
       "  </thead>\n",
       "  <tbody>\n",
       "    <tr>\n",
       "      <th>0</th>\n",
       "      <td>1</td>\n",
       "      <td>18084</td>\n",
       "    </tr>\n",
       "    <tr>\n",
       "      <th>1</th>\n",
       "      <td>2</td>\n",
       "      <td>11466</td>\n",
       "    </tr>\n",
       "    <tr>\n",
       "      <th>2</th>\n",
       "      <td>3</td>\n",
       "      <td>13264</td>\n",
       "    </tr>\n",
       "    <tr>\n",
       "      <th>3</th>\n",
       "      <td>4</td>\n",
       "      <td>18772</td>\n",
       "    </tr>\n",
       "    <tr>\n",
       "      <th>4</th>\n",
       "      <td>5</td>\n",
       "      <td>18562</td>\n",
       "    </tr>\n",
       "    <tr>\n",
       "      <th>5</th>\n",
       "      <td>6</td>\n",
       "      <td>16259</td>\n",
       "    </tr>\n",
       "    <tr>\n",
       "      <th>6</th>\n",
       "      <td>7</td>\n",
       "      <td>12979</td>\n",
       "    </tr>\n",
       "  </tbody>\n",
       "</table>\n",
       "</div>"
      ],
      "text/plain": [
       "   month   확진자수\n",
       "0      1  18084\n",
       "1      2  11466\n",
       "2      3  13264\n",
       "3      4  18772\n",
       "4      5  18562\n",
       "5      6  16259\n",
       "6      7  12979"
      ]
     },
     "execution_count": 18,
     "metadata": {},
     "output_type": "execute_result"
    }
   ],
   "source": [
    "corona2021 = corona2021.groupby(\"month\").sum()\n",
    "corona2021.reset_index(inplace = True)\n",
    "corona2021"
   ]
  },
  {
   "cell_type": "markdown",
   "metadata": {},
   "source": [
    "### 시각화 준비"
   ]
  },
  {
   "cell_type": "code",
   "execution_count": 108,
   "metadata": {},
   "outputs": [
    {
     "data": {
      "text/html": [
       "<div>\n",
       "<style scoped>\n",
       "    .dataframe tbody tr th:only-of-type {\n",
       "        vertical-align: middle;\n",
       "    }\n",
       "\n",
       "    .dataframe tbody tr th {\n",
       "        vertical-align: top;\n",
       "    }\n",
       "\n",
       "    .dataframe thead th {\n",
       "        text-align: right;\n",
       "    }\n",
       "</style>\n",
       "<table border=\"1\" class=\"dataframe\">\n",
       "  <thead>\n",
       "    <tr style=\"text-align: right;\">\n",
       "      <th></th>\n",
       "      <th>월별일자</th>\n",
       "      <th>전년대비(거래량)비율</th>\n",
       "      <th>전년대비(거래금액)비율</th>\n",
       "    </tr>\n",
       "  </thead>\n",
       "  <tbody>\n",
       "    <tr>\n",
       "      <th>0</th>\n",
       "      <td>2020-01</td>\n",
       "      <td>86.206897</td>\n",
       "      <td>97.723647</td>\n",
       "    </tr>\n",
       "    <tr>\n",
       "      <th>1</th>\n",
       "      <td>2020-02</td>\n",
       "      <td>78.754579</td>\n",
       "      <td>69.911185</td>\n",
       "    </tr>\n",
       "    <tr>\n",
       "      <th>2</th>\n",
       "      <td>2020-03</td>\n",
       "      <td>74.716981</td>\n",
       "      <td>66.492974</td>\n",
       "    </tr>\n",
       "    <tr>\n",
       "      <th>3</th>\n",
       "      <td>2020-04</td>\n",
       "      <td>84.375000</td>\n",
       "      <td>77.120270</td>\n",
       "    </tr>\n",
       "    <tr>\n",
       "      <th>4</th>\n",
       "      <td>2020-05</td>\n",
       "      <td>88.921283</td>\n",
       "      <td>81.205729</td>\n",
       "    </tr>\n",
       "    <tr>\n",
       "      <th>5</th>\n",
       "      <td>2020-06</td>\n",
       "      <td>103.809524</td>\n",
       "      <td>98.378784</td>\n",
       "    </tr>\n",
       "    <tr>\n",
       "      <th>6</th>\n",
       "      <td>2020-07</td>\n",
       "      <td>100.947867</td>\n",
       "      <td>139.547429</td>\n",
       "    </tr>\n",
       "    <tr>\n",
       "      <th>7</th>\n",
       "      <td>2020-08</td>\n",
       "      <td>92.670157</td>\n",
       "      <td>104.315361</td>\n",
       "    </tr>\n",
       "    <tr>\n",
       "      <th>8</th>\n",
       "      <td>2020-09</td>\n",
       "      <td>75.247525</td>\n",
       "      <td>91.796427</td>\n",
       "    </tr>\n",
       "    <tr>\n",
       "      <th>9</th>\n",
       "      <td>2020-10</td>\n",
       "      <td>89.090909</td>\n",
       "      <td>91.842661</td>\n",
       "    </tr>\n",
       "    <tr>\n",
       "      <th>10</th>\n",
       "      <td>2020-11</td>\n",
       "      <td>89.956332</td>\n",
       "      <td>104.123791</td>\n",
       "    </tr>\n",
       "  </tbody>\n",
       "</table>\n",
       "</div>"
      ],
      "text/plain": [
       "       월별일자  전년대비(거래량)비율  전년대비(거래금액)비율\n",
       "0   2020-01    86.206897     97.723647\n",
       "1   2020-02    78.754579     69.911185\n",
       "2   2020-03    74.716981     66.492974\n",
       "3   2020-04    84.375000     77.120270\n",
       "4   2020-05    88.921283     81.205729\n",
       "5   2020-06   103.809524     98.378784\n",
       "6   2020-07   100.947867    139.547429\n",
       "7   2020-08    92.670157    104.315361\n",
       "8   2020-09    75.247525     91.796427\n",
       "9   2020-10    89.090909     91.842661\n",
       "10  2020-11    89.956332    104.123791"
      ]
     },
     "execution_count": 108,
     "metadata": {},
     "output_type": "execute_result"
    }
   ],
   "source": [
    "##### 시각화에 필요한 컬럼 따로 생성\n",
    "result_2020 = result_2020[:-1]\n",
    "new_corona = result_2020[[\"전년대비(거래량)비율\", \"전년대비(거래금액)비율\"]]\n",
    "new_corona.reset_index(inplace = True)\n",
    "new_corona"
   ]
  },
  {
   "cell_type": "code",
   "execution_count": 109,
   "metadata": {},
   "outputs": [],
   "source": [
    "test = corona2020[\"확진자수\"].values\n",
    "test_df = pd.DataFrame({\"확진자수\" : test})"
   ]
  },
  {
   "cell_type": "code",
   "execution_count": 112,
   "metadata": {},
   "outputs": [],
   "source": [
    "df = pd.concat([new_corona, test_df], axis = 1)\n",
    "df2020 = df"
   ]
  },
  {
   "cell_type": "code",
   "execution_count": 113,
   "metadata": {},
   "outputs": [
    {
     "name": "stdout",
     "output_type": "stream",
     "text": [
      "<class 'pandas.core.frame.DataFrame'>\n",
      "RangeIndex: 12 entries, 0 to 11\n",
      "Data columns (total 4 columns):\n",
      " #   Column        Non-Null Count  Dtype  \n",
      "---  ------        --------------  -----  \n",
      " 0   월별일자          11 non-null     object \n",
      " 1   전년대비(거래량)비율   11 non-null     float64\n",
      " 2   전년대비(거래금액)비율  11 non-null     float64\n",
      " 3   확진자수          12 non-null     int64  \n",
      "dtypes: float64(2), int64(1), object(1)\n",
      "memory usage: 512.0+ bytes\n"
     ]
    }
   ],
   "source": [
    "##### 데이터를 저장\n",
    "df2020.info()"
   ]
  },
  {
   "cell_type": "markdown",
   "metadata": {},
   "source": [
    "### 시각화"
   ]
  },
  {
   "cell_type": "code",
   "execution_count": 138,
   "metadata": {
    "scrolled": true
   },
   "outputs": [
    {
     "data": {
      "image/png": "[encoded data removed]",
      "text/plain": [
       "<Figure size 900x300 with 2 Axes>"
      ]
     },
     "metadata": {},
     "output_type": "display_data"
    }
   ],
   "source": [
    "# 1. 기본 스타일 설정\n",
    "plt.style.use(\"default\")\n",
    "plt.rcParams['figure.figsize'] = (9, 3)\n",
    "\n",
    "# 2. 데이터 준비\n",
    "x = range(1, 13)\n",
    "y1 = df2020[\"전년대비(거래량)비율\"]\n",
    "y2 = df2020[\"확진자수\"]\n",
    "\n",
    "fig, ax1 = plt.subplots()\n",
    "\n",
    "ax1.bar(x, y1, color='gray', label='전년대비(거래량)비율')\n",
    "ax1.set_xlabel('Month')\n",
    "ax1.set_ylabel('percent(%)')\n",
    "ax1.tick_params(axis='both', direction='in')\n",
    "\n",
    "ax2 = ax1.twinx()\n",
    "ax2.plot(x, y2, color = \"green\", label = \"확진자수\")\n",
    "\n",
    "plt.show()"
   ]
  },
  {
   "cell_type": "markdown",
   "metadata": {},
   "source": [
    "## 2021년 코로나 확진자 추이"
   ]
  },
  {
   "cell_type": "markdown",
   "metadata": {},
   "source": [
    "### 데이터 전처리"
   ]
  },
  {
   "cell_type": "code",
   "execution_count": 120,
   "metadata": {},
   "outputs": [
    {
     "data": {
      "text/html": [
       "<div>\n",
       "<style scoped>\n",
       "    .dataframe tbody tr th:only-of-type {\n",
       "        vertical-align: middle;\n",
       "    }\n",
       "\n",
       "    .dataframe tbody tr th {\n",
       "        vertical-align: top;\n",
       "    }\n",
       "\n",
       "    .dataframe thead th {\n",
       "        text-align: right;\n",
       "    }\n",
       "</style>\n",
       "<table border=\"1\" class=\"dataframe\">\n",
       "  <thead>\n",
       "    <tr style=\"text-align: right;\">\n",
       "      <th></th>\n",
       "      <th>month</th>\n",
       "      <th>확진자수</th>\n",
       "    </tr>\n",
       "  </thead>\n",
       "  <tbody>\n",
       "    <tr>\n",
       "      <th>0</th>\n",
       "      <td>1</td>\n",
       "      <td>18084</td>\n",
       "    </tr>\n",
       "    <tr>\n",
       "      <th>1</th>\n",
       "      <td>2</td>\n",
       "      <td>11466</td>\n",
       "    </tr>\n",
       "    <tr>\n",
       "      <th>2</th>\n",
       "      <td>3</td>\n",
       "      <td>13264</td>\n",
       "    </tr>\n",
       "    <tr>\n",
       "      <th>3</th>\n",
       "      <td>4</td>\n",
       "      <td>18772</td>\n",
       "    </tr>\n",
       "    <tr>\n",
       "      <th>4</th>\n",
       "      <td>5</td>\n",
       "      <td>18562</td>\n",
       "    </tr>\n",
       "    <tr>\n",
       "      <th>5</th>\n",
       "      <td>6</td>\n",
       "      <td>16259</td>\n",
       "    </tr>\n",
       "    <tr>\n",
       "      <th>6</th>\n",
       "      <td>7</td>\n",
       "      <td>12979</td>\n",
       "    </tr>\n",
       "  </tbody>\n",
       "</table>\n",
       "</div>"
      ],
      "text/plain": [
       "   month   확진자수\n",
       "0      1  18084\n",
       "1      2  11466\n",
       "2      3  13264\n",
       "3      4  18772\n",
       "4      5  18562\n",
       "5      6  16259\n",
       "6      7  12979"
      ]
     },
     "execution_count": 120,
     "metadata": {},
     "output_type": "execute_result"
    }
   ],
   "source": [
    "corona2021"
   ]
  },
  {
   "cell_type": "code",
   "execution_count": 121,
   "metadata": {},
   "outputs": [],
   "source": [
    "# 데이터 업로드\n",
    "\n",
    "yj2021 = pd.read_excel(\"data/월별전년대비실적 2021 (양재).xls\")\n",
    "gj2021 = pd.read_excel('data/월별전년대비실적 2021 (광주).xls')\n",
    "bsgd2021 = pd.read_excel('data/월별전년대비실적 2021 (부산강동동).xls')\n",
    "bsug2021 = pd.read_excel('data/월별전년대비실적 2021 (부산엄궁동).xls')"
   ]
  },
  {
   "cell_type": "code",
   "execution_count": 122,
   "metadata": {},
   "outputs": [
    {
     "name": "stdout",
     "output_type": "stream",
     "text": [
      "<class 'pandas.core.frame.DataFrame'>\n",
      "RangeIndex: 8 entries, 0 to 7\n",
      "Data columns (total 7 columns):\n",
      " #   Column      Non-Null Count  Dtype \n",
      "---  ------      --------------  ----- \n",
      " 0   월별일자        8 non-null      object\n",
      " 1   전년(거래량)     8 non-null      int64 \n",
      " 2   금년(거래량)     8 non-null      int64 \n",
      " 3   작년대비(거래량)   8 non-null      object\n",
      " 4   전년(거래금액)    8 non-null      int64 \n",
      " 5   금년(거래금액)    8 non-null      int64 \n",
      " 6   작년대비(거래금액)  8 non-null      object\n",
      "dtypes: int64(4), object(3)\n",
      "memory usage: 576.0+ bytes\n"
     ]
    }
   ],
   "source": [
    "yj2021.info()"
   ]
  },
  {
   "cell_type": "code",
   "execution_count": 123,
   "metadata": {},
   "outputs": [
    {
     "data": {
      "text/html": [
       "<div>\n",
       "<style scoped>\n",
       "    .dataframe tbody tr th:only-of-type {\n",
       "        vertical-align: middle;\n",
       "    }\n",
       "\n",
       "    .dataframe tbody tr th {\n",
       "        vertical-align: top;\n",
       "    }\n",
       "\n",
       "    .dataframe thead th {\n",
       "        text-align: right;\n",
       "    }\n",
       "</style>\n",
       "<table border=\"1\" class=\"dataframe\">\n",
       "  <thead>\n",
       "    <tr style=\"text-align: right;\">\n",
       "      <th></th>\n",
       "      <th>월별일자</th>\n",
       "      <th>전년(거래량)</th>\n",
       "      <th>금년(거래량)</th>\n",
       "      <th>작년대비(거래량)</th>\n",
       "      <th>전년(거래금액)</th>\n",
       "      <th>금년(거래금액)</th>\n",
       "      <th>작년대비(거래금액)</th>\n",
       "    </tr>\n",
       "  </thead>\n",
       "  <tbody>\n",
       "    <tr>\n",
       "      <th>0</th>\n",
       "      <td>2021-01</td>\n",
       "      <td>131</td>\n",
       "      <td>120</td>\n",
       "      <td>8.36% ▼</td>\n",
       "      <td>642228</td>\n",
       "      <td>495158</td>\n",
       "      <td>22.9% ▼</td>\n",
       "    </tr>\n",
       "    <tr>\n",
       "      <th>1</th>\n",
       "      <td>2021-02</td>\n",
       "      <td>138</td>\n",
       "      <td>149</td>\n",
       "      <td>8.14% ▲</td>\n",
       "      <td>511212</td>\n",
       "      <td>737436</td>\n",
       "      <td>44.25% ▲</td>\n",
       "    </tr>\n",
       "    <tr>\n",
       "      <th>2</th>\n",
       "      <td>2021-03</td>\n",
       "      <td>158</td>\n",
       "      <td>213</td>\n",
       "      <td>35.05% ▲</td>\n",
       "      <td>425838</td>\n",
       "      <td>838103</td>\n",
       "      <td>96.81% ▲</td>\n",
       "    </tr>\n",
       "    <tr>\n",
       "      <th>3</th>\n",
       "      <td>2021-04</td>\n",
       "      <td>179</td>\n",
       "      <td>204</td>\n",
       "      <td>13.94% ▲</td>\n",
       "      <td>496727</td>\n",
       "      <td>801192</td>\n",
       "      <td>61.29% ▲</td>\n",
       "    </tr>\n",
       "    <tr>\n",
       "      <th>4</th>\n",
       "      <td>2021-05</td>\n",
       "      <td>206</td>\n",
       "      <td>202</td>\n",
       "      <td>2.25% ▼</td>\n",
       "      <td>763367</td>\n",
       "      <td>1044790</td>\n",
       "      <td>36.87% ▲</td>\n",
       "    </tr>\n",
       "    <tr>\n",
       "      <th>5</th>\n",
       "      <td>2021-06</td>\n",
       "      <td>145</td>\n",
       "      <td>159</td>\n",
       "      <td>9.25% ▲</td>\n",
       "      <td>427365</td>\n",
       "      <td>604214</td>\n",
       "      <td>41.38% ▲</td>\n",
       "    </tr>\n",
       "    <tr>\n",
       "      <th>6</th>\n",
       "      <td>2021-07</td>\n",
       "      <td>120</td>\n",
       "      <td>113</td>\n",
       "      <td>5.54% ▼</td>\n",
       "      <td>414218</td>\n",
       "      <td>368514</td>\n",
       "      <td>11.03% ▼</td>\n",
       "    </tr>\n",
       "    <tr>\n",
       "      <th>7</th>\n",
       "      <td>합계</td>\n",
       "      <td>1081</td>\n",
       "      <td>1164</td>\n",
       "      <td>7.67% ▲</td>\n",
       "      <td>3680958</td>\n",
       "      <td>4889410</td>\n",
       "      <td>32.83% ▲</td>\n",
       "    </tr>\n",
       "  </tbody>\n",
       "</table>\n",
       "</div>"
      ],
      "text/plain": [
       "      월별일자  전년(거래량)  금년(거래량) 작년대비(거래량)  전년(거래금액)  금년(거래금액) 작년대비(거래금액)\n",
       "0  2021-01      131      120   8.36% ▼    642228    495158    22.9% ▼\n",
       "1  2021-02      138      149   8.14% ▲    511212    737436   44.25% ▲\n",
       "2  2021-03      158      213  35.05% ▲    425838    838103   96.81% ▲\n",
       "3  2021-04      179      204  13.94% ▲    496727    801192   61.29% ▲\n",
       "4  2021-05      206      202   2.25% ▼    763367   1044790   36.87% ▲\n",
       "5  2021-06      145      159   9.25% ▲    427365    604214   41.38% ▲\n",
       "6  2021-07      120      113   5.54% ▼    414218    368514   11.03% ▼\n",
       "7       합계     1081     1164   7.67% ▲   3680958   4889410   32.83% ▲"
      ]
     },
     "execution_count": 123,
     "metadata": {},
     "output_type": "execute_result"
    }
   ],
   "source": [
    "yj2021 # 전년대비(거래량)비율 전년대비(거래금액)비율"
   ]
  },
  {
   "cell_type": "code",
   "execution_count": 124,
   "metadata": {},
   "outputs": [],
   "source": [
    "del yj2021[\"작년대비(거래량)\"]\n",
    "del yj2021[\"작년대비(거래금액)\"]\n",
    "del gj2021[\"작년대비(거래량)\"]\n",
    "del gj2021[\"작년대비(거래금액)\"]\n",
    "del bsgd2021[\"작년대비(거래량)\"]\n",
    "del bsgd2021[\"작년대비(거래금액)\"]\n",
    "del bsug2021[\"작년대비(거래량)\"]\n",
    "del bsug2021[\"작년대비(거래금액)\"]"
   ]
  },
  {
   "cell_type": "code",
   "execution_count": 125,
   "metadata": {},
   "outputs": [
    {
     "data": {
      "text/html": [
       "<div>\n",
       "<style scoped>\n",
       "    .dataframe tbody tr th:only-of-type {\n",
       "        vertical-align: middle;\n",
       "    }\n",
       "\n",
       "    .dataframe tbody tr th {\n",
       "        vertical-align: top;\n",
       "    }\n",
       "\n",
       "    .dataframe thead th {\n",
       "        text-align: right;\n",
       "    }\n",
       "</style>\n",
       "<table border=\"1\" class=\"dataframe\">\n",
       "  <thead>\n",
       "    <tr style=\"text-align: right;\">\n",
       "      <th></th>\n",
       "      <th>월별일자</th>\n",
       "      <th>전년(거래량)</th>\n",
       "      <th>금년(거래량)</th>\n",
       "      <th>전년(거래금액)</th>\n",
       "      <th>금년(거래금액)</th>\n",
       "    </tr>\n",
       "  </thead>\n",
       "  <tbody>\n",
       "    <tr>\n",
       "      <th>0</th>\n",
       "      <td>2021-01</td>\n",
       "      <td>131</td>\n",
       "      <td>120</td>\n",
       "      <td>642228</td>\n",
       "      <td>495158</td>\n",
       "    </tr>\n",
       "    <tr>\n",
       "      <th>1</th>\n",
       "      <td>2021-02</td>\n",
       "      <td>138</td>\n",
       "      <td>149</td>\n",
       "      <td>511212</td>\n",
       "      <td>737436</td>\n",
       "    </tr>\n",
       "    <tr>\n",
       "      <th>2</th>\n",
       "      <td>2021-03</td>\n",
       "      <td>158</td>\n",
       "      <td>213</td>\n",
       "      <td>425838</td>\n",
       "      <td>838103</td>\n",
       "    </tr>\n",
       "    <tr>\n",
       "      <th>3</th>\n",
       "      <td>2021-04</td>\n",
       "      <td>179</td>\n",
       "      <td>204</td>\n",
       "      <td>496727</td>\n",
       "      <td>801192</td>\n",
       "    </tr>\n",
       "    <tr>\n",
       "      <th>4</th>\n",
       "      <td>2021-05</td>\n",
       "      <td>206</td>\n",
       "      <td>202</td>\n",
       "      <td>763367</td>\n",
       "      <td>1044790</td>\n",
       "    </tr>\n",
       "    <tr>\n",
       "      <th>5</th>\n",
       "      <td>2021-06</td>\n",
       "      <td>145</td>\n",
       "      <td>159</td>\n",
       "      <td>427365</td>\n",
       "      <td>604214</td>\n",
       "    </tr>\n",
       "    <tr>\n",
       "      <th>6</th>\n",
       "      <td>2021-07</td>\n",
       "      <td>120</td>\n",
       "      <td>113</td>\n",
       "      <td>414218</td>\n",
       "      <td>368514</td>\n",
       "    </tr>\n",
       "    <tr>\n",
       "      <th>7</th>\n",
       "      <td>합계</td>\n",
       "      <td>1081</td>\n",
       "      <td>1164</td>\n",
       "      <td>3680958</td>\n",
       "      <td>4889410</td>\n",
       "    </tr>\n",
       "  </tbody>\n",
       "</table>\n",
       "</div>"
      ],
      "text/plain": [
       "      월별일자  전년(거래량)  금년(거래량)  전년(거래금액)  금년(거래금액)\n",
       "0  2021-01      131      120    642228    495158\n",
       "1  2021-02      138      149    511212    737436\n",
       "2  2021-03      158      213    425838    838103\n",
       "3  2021-04      179      204    496727    801192\n",
       "4  2021-05      206      202    763367   1044790\n",
       "5  2021-06      145      159    427365    604214\n",
       "6  2021-07      120      113    414218    368514\n",
       "7       합계     1081     1164   3680958   4889410"
      ]
     },
     "execution_count": 125,
     "metadata": {},
     "output_type": "execute_result"
    }
   ],
   "source": [
    "yj2021"
   ]
  },
  {
   "cell_type": "code",
   "execution_count": 126,
   "metadata": {},
   "outputs": [],
   "source": [
    "df = pd.concat([yj2021, gj2021, bsgd2021, bsug2021])\n",
    "result = df.groupby(\"월별일자\").sum()"
   ]
  },
  {
   "cell_type": "code",
   "execution_count": 127,
   "metadata": {},
   "outputs": [],
   "source": [
    "result[\"전년대비(거래량)비율\"] = result[\"금년(거래량)\"] / result[\"전년(거래량)\"] * 100\n",
    "result[\"전년대비(거래금액)비율\"] = result[\"금년(거래금액)\"] / result[\"전년(거래금액)\"] * 100"
   ]
  },
  {
   "cell_type": "code",
   "execution_count": 128,
   "metadata": {},
   "outputs": [],
   "source": [
    "result_2021 = result"
   ]
  },
  {
   "cell_type": "code",
   "execution_count": 129,
   "metadata": {},
   "outputs": [
    {
     "data": {
      "text/html": [
       "<div>\n",
       "<style scoped>\n",
       "    .dataframe tbody tr th:only-of-type {\n",
       "        vertical-align: middle;\n",
       "    }\n",
       "\n",
       "    .dataframe tbody tr th {\n",
       "        vertical-align: top;\n",
       "    }\n",
       "\n",
       "    .dataframe thead th {\n",
       "        text-align: right;\n",
       "    }\n",
       "</style>\n",
       "<table border=\"1\" class=\"dataframe\">\n",
       "  <thead>\n",
       "    <tr style=\"text-align: right;\">\n",
       "      <th></th>\n",
       "      <th>전년(거래량)</th>\n",
       "      <th>금년(거래량)</th>\n",
       "      <th>전년(거래금액)</th>\n",
       "      <th>금년(거래금액)</th>\n",
       "      <th>전년대비(거래량)비율</th>\n",
       "      <th>전년대비(거래금액)비율</th>\n",
       "    </tr>\n",
       "    <tr>\n",
       "      <th>월별일자</th>\n",
       "      <th></th>\n",
       "      <th></th>\n",
       "      <th></th>\n",
       "      <th></th>\n",
       "      <th></th>\n",
       "      <th></th>\n",
       "    </tr>\n",
       "  </thead>\n",
       "  <tbody>\n",
       "    <tr>\n",
       "      <th>2021-01</th>\n",
       "      <td>207</td>\n",
       "      <td>181</td>\n",
       "      <td>969674</td>\n",
       "      <td>731003</td>\n",
       "      <td>87.439614</td>\n",
       "      <td>75.386470</td>\n",
       "    </tr>\n",
       "    <tr>\n",
       "      <th>2021-02</th>\n",
       "      <td>224</td>\n",
       "      <td>225</td>\n",
       "      <td>789529</td>\n",
       "      <td>1064823</td>\n",
       "      <td>100.446429</td>\n",
       "      <td>134.868130</td>\n",
       "    </tr>\n",
       "    <tr>\n",
       "      <th>2021-03</th>\n",
       "      <td>205</td>\n",
       "      <td>304</td>\n",
       "      <td>548035</td>\n",
       "      <td>1199265</td>\n",
       "      <td>148.292683</td>\n",
       "      <td>218.830002</td>\n",
       "    </tr>\n",
       "    <tr>\n",
       "      <th>2021-04</th>\n",
       "      <td>250</td>\n",
       "      <td>288</td>\n",
       "      <td>694343</td>\n",
       "      <td>1138351</td>\n",
       "      <td>115.200000</td>\n",
       "      <td>163.946493</td>\n",
       "    </tr>\n",
       "    <tr>\n",
       "      <th>2021-05</th>\n",
       "      <td>312</td>\n",
       "      <td>289</td>\n",
       "      <td>1113752</td>\n",
       "      <td>1447939</td>\n",
       "      <td>92.628205</td>\n",
       "      <td>130.005513</td>\n",
       "    </tr>\n",
       "    <tr>\n",
       "      <th>2021-06</th>\n",
       "      <td>224</td>\n",
       "      <td>222</td>\n",
       "      <td>660342</td>\n",
       "      <td>839930</td>\n",
       "      <td>99.107143</td>\n",
       "      <td>127.196210</td>\n",
       "    </tr>\n",
       "    <tr>\n",
       "      <th>2021-07</th>\n",
       "      <td>173</td>\n",
       "      <td>161</td>\n",
       "      <td>587992</td>\n",
       "      <td>528435</td>\n",
       "      <td>93.063584</td>\n",
       "      <td>89.871121</td>\n",
       "    </tr>\n",
       "    <tr>\n",
       "      <th>합계</th>\n",
       "      <td>1608</td>\n",
       "      <td>1684</td>\n",
       "      <td>5363678</td>\n",
       "      <td>6949758</td>\n",
       "      <td>104.726368</td>\n",
       "      <td>129.570754</td>\n",
       "    </tr>\n",
       "  </tbody>\n",
       "</table>\n",
       "</div>"
      ],
      "text/plain": [
       "         전년(거래량)  금년(거래량)  전년(거래금액)  금년(거래금액)  전년대비(거래량)비율  전년대비(거래금액)비율\n",
       "월별일자                                                                    \n",
       "2021-01      207      181    969674    731003    87.439614     75.386470\n",
       "2021-02      224      225    789529   1064823   100.446429    134.868130\n",
       "2021-03      205      304    548035   1199265   148.292683    218.830002\n",
       "2021-04      250      288    694343   1138351   115.200000    163.946493\n",
       "2021-05      312      289   1113752   1447939    92.628205    130.005513\n",
       "2021-06      224      222    660342    839930    99.107143    127.196210\n",
       "2021-07      173      161    587992    528435    93.063584     89.871121\n",
       "합계          1608     1684   5363678   6949758   104.726368    129.570754"
      ]
     },
     "execution_count": 129,
     "metadata": {},
     "output_type": "execute_result"
    }
   ],
   "source": [
    "result_2021"
   ]
  },
  {
   "cell_type": "markdown",
   "metadata": {},
   "source": [
    "### 시각화 준비"
   ]
  },
  {
   "cell_type": "code",
   "execution_count": 130,
   "metadata": {},
   "outputs": [
    {
     "data": {
      "text/html": [
       "<div>\n",
       "<style scoped>\n",
       "    .dataframe tbody tr th:only-of-type {\n",
       "        vertical-align: middle;\n",
       "    }\n",
       "\n",
       "    .dataframe tbody tr th {\n",
       "        vertical-align: top;\n",
       "    }\n",
       "\n",
       "    .dataframe thead th {\n",
       "        text-align: right;\n",
       "    }\n",
       "</style>\n",
       "<table border=\"1\" class=\"dataframe\">\n",
       "  <thead>\n",
       "    <tr style=\"text-align: right;\">\n",
       "      <th></th>\n",
       "      <th>월별일자</th>\n",
       "      <th>전년대비(거래량)비율</th>\n",
       "      <th>전년대비(거래금액)비율</th>\n",
       "    </tr>\n",
       "  </thead>\n",
       "  <tbody>\n",
       "    <tr>\n",
       "      <th>0</th>\n",
       "      <td>2021-01</td>\n",
       "      <td>87.439614</td>\n",
       "      <td>75.386470</td>\n",
       "    </tr>\n",
       "    <tr>\n",
       "      <th>1</th>\n",
       "      <td>2021-02</td>\n",
       "      <td>100.446429</td>\n",
       "      <td>134.868130</td>\n",
       "    </tr>\n",
       "    <tr>\n",
       "      <th>2</th>\n",
       "      <td>2021-03</td>\n",
       "      <td>148.292683</td>\n",
       "      <td>218.830002</td>\n",
       "    </tr>\n",
       "    <tr>\n",
       "      <th>3</th>\n",
       "      <td>2021-04</td>\n",
       "      <td>115.200000</td>\n",
       "      <td>163.946493</td>\n",
       "    </tr>\n",
       "    <tr>\n",
       "      <th>4</th>\n",
       "      <td>2021-05</td>\n",
       "      <td>92.628205</td>\n",
       "      <td>130.005513</td>\n",
       "    </tr>\n",
       "    <tr>\n",
       "      <th>5</th>\n",
       "      <td>2021-06</td>\n",
       "      <td>99.107143</td>\n",
       "      <td>127.196210</td>\n",
       "    </tr>\n",
       "    <tr>\n",
       "      <th>6</th>\n",
       "      <td>2021-07</td>\n",
       "      <td>93.063584</td>\n",
       "      <td>89.871121</td>\n",
       "    </tr>\n",
       "  </tbody>\n",
       "</table>\n",
       "</div>"
      ],
      "text/plain": [
       "      월별일자  전년대비(거래량)비율  전년대비(거래금액)비율\n",
       "0  2021-01    87.439614     75.386470\n",
       "1  2021-02   100.446429    134.868130\n",
       "2  2021-03   148.292683    218.830002\n",
       "3  2021-04   115.200000    163.946493\n",
       "4  2021-05    92.628205    130.005513\n",
       "5  2021-06    99.107143    127.196210\n",
       "6  2021-07    93.063584     89.871121"
      ]
     },
     "execution_count": 130,
     "metadata": {},
     "output_type": "execute_result"
    }
   ],
   "source": [
    "result_2021 = result_2021[:-1]\n",
    "new_corona = result_2021[[\"전년대비(거래량)비율\", \"전년대비(거래금액)비율\"]]\n",
    "new_corona.reset_index(inplace = True)\n",
    "new_corona"
   ]
  },
  {
   "cell_type": "code",
   "execution_count": 131,
   "metadata": {},
   "outputs": [],
   "source": [
    "test = corona2021[\"확진자수\"].values\n",
    "test_df = pd.DataFrame({\"확진자수\" : test})"
   ]
  },
  {
   "cell_type": "code",
   "execution_count": 132,
   "metadata": {},
   "outputs": [],
   "source": [
    "df = pd.concat([new_corona, test_df], axis = 1)\n",
    "df2021 = df"
   ]
  },
  {
   "cell_type": "code",
   "execution_count": 133,
   "metadata": {},
   "outputs": [
    {
     "data": {
      "text/html": [
       "<div>\n",
       "<style scoped>\n",
       "    .dataframe tbody tr th:only-of-type {\n",
       "        vertical-align: middle;\n",
       "    }\n",
       "\n",
       "    .dataframe tbody tr th {\n",
       "        vertical-align: top;\n",
       "    }\n",
       "\n",
       "    .dataframe thead th {\n",
       "        text-align: right;\n",
       "    }\n",
       "</style>\n",
       "<table border=\"1\" class=\"dataframe\">\n",
       "  <thead>\n",
       "    <tr style=\"text-align: right;\">\n",
       "      <th></th>\n",
       "      <th>월별일자</th>\n",
       "      <th>전년대비(거래량)비율</th>\n",
       "      <th>전년대비(거래금액)비율</th>\n",
       "      <th>확진자수</th>\n",
       "    </tr>\n",
       "  </thead>\n",
       "  <tbody>\n",
       "    <tr>\n",
       "      <th>0</th>\n",
       "      <td>2021-01</td>\n",
       "      <td>87.439614</td>\n",
       "      <td>75.386470</td>\n",
       "      <td>18084</td>\n",
       "    </tr>\n",
       "    <tr>\n",
       "      <th>1</th>\n",
       "      <td>2021-02</td>\n",
       "      <td>100.446429</td>\n",
       "      <td>134.868130</td>\n",
       "      <td>11466</td>\n",
       "    </tr>\n",
       "    <tr>\n",
       "      <th>2</th>\n",
       "      <td>2021-03</td>\n",
       "      <td>148.292683</td>\n",
       "      <td>218.830002</td>\n",
       "      <td>13264</td>\n",
       "    </tr>\n",
       "    <tr>\n",
       "      <th>3</th>\n",
       "      <td>2021-04</td>\n",
       "      <td>115.200000</td>\n",
       "      <td>163.946493</td>\n",
       "      <td>18772</td>\n",
       "    </tr>\n",
       "    <tr>\n",
       "      <th>4</th>\n",
       "      <td>2021-05</td>\n",
       "      <td>92.628205</td>\n",
       "      <td>130.005513</td>\n",
       "      <td>18562</td>\n",
       "    </tr>\n",
       "    <tr>\n",
       "      <th>5</th>\n",
       "      <td>2021-06</td>\n",
       "      <td>99.107143</td>\n",
       "      <td>127.196210</td>\n",
       "      <td>16259</td>\n",
       "    </tr>\n",
       "    <tr>\n",
       "      <th>6</th>\n",
       "      <td>2021-07</td>\n",
       "      <td>93.063584</td>\n",
       "      <td>89.871121</td>\n",
       "      <td>12979</td>\n",
       "    </tr>\n",
       "  </tbody>\n",
       "</table>\n",
       "</div>"
      ],
      "text/plain": [
       "      월별일자  전년대비(거래량)비율  전년대비(거래금액)비율   확진자수\n",
       "0  2021-01    87.439614     75.386470  18084\n",
       "1  2021-02   100.446429    134.868130  11466\n",
       "2  2021-03   148.292683    218.830002  13264\n",
       "3  2021-04   115.200000    163.946493  18772\n",
       "4  2021-05    92.628205    130.005513  18562\n",
       "5  2021-06    99.107143    127.196210  16259\n",
       "6  2021-07    93.063584     89.871121  12979"
      ]
     },
     "execution_count": 133,
     "metadata": {},
     "output_type": "execute_result"
    }
   ],
   "source": [
    "df2021"
   ]
  },
  {
   "cell_type": "markdown",
   "metadata": {},
   "source": [
    "### 시각화"
   ]
  },
  {
   "cell_type": "code",
   "execution_count": 137,
   "metadata": {},
   "outputs": [
    {
     "data": {
      "image/png": "[encoded data removed]",
      "text/plain": [
       "<Figure size 500x300 with 2 Axes>"
      ]
     },
     "metadata": {},
     "output_type": "display_data"
    }
   ],
   "source": [
    "# 1. 기본 스타일 설정\n",
    "plt.style.use(\"default\")\n",
    "plt.rcParams['figure.figsize'] = (5, 3)\n",
    "\n",
    "# 2. 데이터 준비\n",
    "x = range(1, 8)\n",
    "y1 = df2021[\"전년대비(거래량)비율\"]\n",
    "y2 = df2021[\"확진자수\"]\n",
    "\n",
    "fig, ax1 = plt.subplots()\n",
    "\n",
    "ax1.bar(x, y1, color='gray', label='전년대비(거래량)비율')\n",
    "ax1.set_xlabel('Month')\n",
    "ax1.set_ylabel('percent(%)')\n",
    "ax1.tick_params(axis='both', direction='in')\n",
    "\n",
    "ax2 = ax1.twinx()\n",
    "ax2.plot(x, y2, color = \"green\", label = \"확진자수\")\n",
    "\n",
    "plt.show()"
   ]
  }
 ],
 "metadata": {
  "kernelspec": {
   "display_name": "Python 3",
   "language": "python",
   "name": "python3"
  },
  "language_info": {
   "codemirror_mode": {
    "name": "ipython",
    "version": 3
   },
   "file_extension": ".py",
   "mimetype": "text/x-python",
   "name": "python",
   "nbconvert_exporter": "python",
   "pygments_lexer": "ipython3",
   "version": "3.8.5"
  },
  "toc": {
   "base_numbering": 1,
   "nav_menu": {},
   "number_sections": true,
   "sideBar": true,
   "skip_h1_title": false,
   "title_cell": "Table of Contents",
   "title_sidebar": "Contents",
   "toc_cell": false,
   "toc_position": {},
   "toc_section_display": true,
   "toc_window_display": true
  }
 },
 "nbformat": 4,
 "nbformat_minor": 4
}
